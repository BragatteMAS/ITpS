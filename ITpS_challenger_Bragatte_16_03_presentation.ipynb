{
 "cells": [
  {
   "cell_type": "markdown",
   "metadata": {},
   "source": [
    "# Data challenge\n",
    "## ITpS postdoc recruitment\n",
    "This is the scirpt from the challenge of data analysis & visualization.\n"
   ]
  },
  {
   "cell_type": "markdown",
   "metadata": {},
   "source": [
    "### Questions"
   ]
  },
  {
   "cell_type": "markdown",
   "metadata": {},
   "source": [
    "1. Genomic surveillance in Brazil has improved over the past months of COVID-19 pandemic. Using the\n",
    "dataset described above, show us how many daily SARS-CoV-2 samples were sequenced in Brazil, from\n",
    "March 1st , 2020 to December 31 st, 2021. How well genome sequencing developed in 2020 and in 2021?\n",
    "2. Dozens (likely hundreds) of SARS-CoV-2 lineages circulated in Brazil during the current COVID-19\n",
    "pandemic. Some of these lineages were classified as “variants of concern” (VOC) by the WHO. As in most\n",
    "countries, once a new VOC is introduced in Brazil, it may replace the circulating viruses, becoming dominant.\n",
    "Using the same dataset provided above, how was the distribution of the different variants (Alpha, Beta,\n",
    "Gamma, Delta, and Omicron) in the Brazilian states?\n",
    "3. The data provided can be visualized in many ways, and this visual vocabulary illustrates alternative\n",
    "visualizations. Using the same dataset, explore your creativity, and provide answers to new questions not yet\n",
    "considered in the previous tasks."
   ]
  },
  {
   "cell_type": "markdown",
   "metadata": {},
   "source": [
    "#### Libraries\n"
   ]
  },
  {
   "cell_type": "code",
   "execution_count": 26,
   "metadata": {},
   "outputs": [],
   "source": [
    "import pandas as pd\n",
    "import numpy as np\n",
    "\n",
    "from datetime import datetime\n",
    "\n",
    "%matplotlib inline\n",
    "import matplotlib.pyplot as plt\n",
    "import seaborn as sns\n",
    "#import plotly.express as px"
   ]
  },
  {
   "cell_type": "markdown",
   "metadata": {},
   "source": [
    "#### Metadata of variants from Brazil"
   ]
  },
  {
   "cell_type": "code",
   "execution_count": 27,
   "metadata": {},
   "outputs": [
    {
     "data": {
      "text/html": [
       "<div>\n",
       "<style scoped>\n",
       "    .dataframe tbody tr th:only-of-type {\n",
       "        vertical-align: middle;\n",
       "    }\n",
       "\n",
       "    .dataframe tbody tr th {\n",
       "        vertical-align: top;\n",
       "    }\n",
       "\n",
       "    .dataframe thead th {\n",
       "        text-align: right;\n",
       "    }\n",
       "</style>\n",
       "<table border=\"1\" class=\"dataframe\">\n",
       "  <thead>\n",
       "    <tr style=\"text-align: right;\">\n",
       "      <th></th>\n",
       "      <th>identifier</th>\n",
       "      <th>date</th>\n",
       "      <th>pango_lineage</th>\n",
       "      <th>variant</th>\n",
       "      <th>country</th>\n",
       "      <th>state</th>\n",
       "      <th>state_code</th>\n",
       "      <th>ibge_code</th>\n",
       "      <th>age</th>\n",
       "      <th>sex</th>\n",
       "      <th>lat</th>\n",
       "      <th>long</th>\n",
       "    </tr>\n",
       "  </thead>\n",
       "  <tbody>\n",
       "    <tr>\n",
       "      <th>0</th>\n",
       "      <td>f13d424ea9d922139c0fdf8248983cb7bf70ab12</td>\n",
       "      <td>2020-03-01</td>\n",
       "      <td>B.1.1.33</td>\n",
       "      <td>Other variants</td>\n",
       "      <td>Brazil</td>\n",
       "      <td>Rio de Janeiro</td>\n",
       "      <td>RJ</td>\n",
       "      <td>BR33</td>\n",
       "      <td>?</td>\n",
       "      <td>?</td>\n",
       "      <td>-22.911014</td>\n",
       "      <td>-43.209373</td>\n",
       "    </tr>\n",
       "    <tr>\n",
       "      <th>1</th>\n",
       "      <td>1b036bc8f04309aeae963ff7350b0f5253595e76</td>\n",
       "      <td>2020-03-01</td>\n",
       "      <td>B.1.1</td>\n",
       "      <td>Other variants</td>\n",
       "      <td>Brazil</td>\n",
       "      <td>Rio Grande do Sul</td>\n",
       "      <td>RS</td>\n",
       "      <td>BR43</td>\n",
       "      <td>53</td>\n",
       "      <td>Male</td>\n",
       "      <td>-29.842528</td>\n",
       "      <td>-53.768058</td>\n",
       "    </tr>\n",
       "    <tr>\n",
       "      <th>2</th>\n",
       "      <td>d7159e22a06c290aedfd0c51f036e81f60dd2210</td>\n",
       "      <td>2020-03-01</td>\n",
       "      <td>B.1.1</td>\n",
       "      <td>Other variants</td>\n",
       "      <td>Brazil</td>\n",
       "      <td>Rio Grande do Sul</td>\n",
       "      <td>RS</td>\n",
       "      <td>BR43</td>\n",
       "      <td>47</td>\n",
       "      <td>Female</td>\n",
       "      <td>-29.842528</td>\n",
       "      <td>-53.768058</td>\n",
       "    </tr>\n",
       "    <tr>\n",
       "      <th>3</th>\n",
       "      <td>98b49cb92dc2516a6b061f16c27b3a12e9404885</td>\n",
       "      <td>2020-03-01</td>\n",
       "      <td>B.1</td>\n",
       "      <td>Other variants</td>\n",
       "      <td>Brazil</td>\n",
       "      <td>Rio Grande do Sul</td>\n",
       "      <td>RS</td>\n",
       "      <td>BR43</td>\n",
       "      <td>82</td>\n",
       "      <td>Male</td>\n",
       "      <td>-29.842528</td>\n",
       "      <td>-53.768058</td>\n",
       "    </tr>\n",
       "    <tr>\n",
       "      <th>4</th>\n",
       "      <td>a5ced01b07bfa9705841a45c5b236be5590e7fd1</td>\n",
       "      <td>2020-03-04</td>\n",
       "      <td>B</td>\n",
       "      <td>Other variants</td>\n",
       "      <td>Brazil</td>\n",
       "      <td>Distrito Federal</td>\n",
       "      <td>DF</td>\n",
       "      <td>BR53</td>\n",
       "      <td>52</td>\n",
       "      <td>Female</td>\n",
       "      <td>-15.775446</td>\n",
       "      <td>-47.797089</td>\n",
       "    </tr>\n",
       "  </tbody>\n",
       "</table>\n",
       "</div>"
      ],
      "text/plain": [
       "                                 identifier        date pango_lineage  \\\n",
       "0  f13d424ea9d922139c0fdf8248983cb7bf70ab12  2020-03-01      B.1.1.33   \n",
       "1  1b036bc8f04309aeae963ff7350b0f5253595e76  2020-03-01         B.1.1   \n",
       "2  d7159e22a06c290aedfd0c51f036e81f60dd2210  2020-03-01         B.1.1   \n",
       "3  98b49cb92dc2516a6b061f16c27b3a12e9404885  2020-03-01           B.1   \n",
       "4  a5ced01b07bfa9705841a45c5b236be5590e7fd1  2020-03-04             B   \n",
       "\n",
       "          variant country              state state_code ibge_code age     sex  \\\n",
       "0  Other variants  Brazil     Rio de Janeiro         RJ      BR33   ?       ?   \n",
       "1  Other variants  Brazil  Rio Grande do Sul         RS      BR43  53    Male   \n",
       "2  Other variants  Brazil  Rio Grande do Sul         RS      BR43  47  Female   \n",
       "3  Other variants  Brazil  Rio Grande do Sul         RS      BR43  82    Male   \n",
       "4  Other variants  Brazil   Distrito Federal         DF      BR53  52  Female   \n",
       "\n",
       "         lat       long  \n",
       "0 -22.911014 -43.209373  \n",
       "1 -29.842528 -53.768058  \n",
       "2 -29.842528 -53.768058  \n",
       "3 -29.842528 -53.768058  \n",
       "4 -15.775446 -47.797089  "
      ]
     },
     "execution_count": 27,
     "metadata": {},
     "output_type": "execute_result"
    }
   ],
   "source": [
    "df = pd.read_csv(r\"C:\\Users\\bragatte\\Documents\\github\\ITpS\\metadata_brazil_variants.tsv\", sep='\\t') #win\n",
    "#df = pd.read_csv(\"/home/bragatte/Documentos/GitHub/ITpS/metadata_brazil_variants.tsv\", sep='\\t') #linux/mac\n",
    "df.head()"
   ]
  },
  {
   "cell_type": "code",
   "execution_count": 28,
   "metadata": {},
   "outputs": [
    {
     "name": "stdout",
     "output_type": "stream",
     "text": [
      "The dataset has 92598 lines and 12 columns\n"
     ]
    }
   ],
   "source": [
    "# exploring dataset\n",
    "df.shape\n",
    "\n",
    "print('The dataset has {} lines and {} columns'.format(df.shape[0], df.shape[1]))"
   ]
  },
  {
   "cell_type": "code",
   "execution_count": 29,
   "metadata": {},
   "outputs": [
    {
     "data": {
      "text/plain": [
       "Index(['identifier', 'date', 'pango_lineage', 'variant', 'country', 'state',\n",
       "       'state_code', 'ibge_code', 'age', 'sex', 'lat', 'long'],\n",
       "      dtype='object')"
      ]
     },
     "execution_count": 29,
     "metadata": {},
     "output_type": "execute_result"
    }
   ],
   "source": [
    "#Columns headers\n",
    "df.columns"
   ]
  },
  {
   "cell_type": "markdown",
   "metadata": {},
   "source": [
    "### 1. Genomic surveillance in Brazil\n",
    "* How many daily SARS-CoV-2 samples were sequenced in Brazil, from **March 1st, 2020 to December 31st, 2021**?"
   ]
  },
  {
   "cell_type": "code",
   "execution_count": 30,
   "metadata": {},
   "outputs": [
    {
     "name": "stdout",
     "output_type": "stream",
     "text": [
      "The columns to explore for the first question are date and country\n"
     ]
    }
   ],
   "source": [
    "df.columns\n",
    "\n",
    "print('The columns to explore for the first question are {} and {}'.format(df.columns[1], df.columns[4]))"
   ]
  },
  {
   "cell_type": "code",
   "execution_count": 31,
   "metadata": {},
   "outputs": [
    {
     "data": {
      "text/html": [
       "<div>\n",
       "<style scoped>\n",
       "    .dataframe tbody tr th:only-of-type {\n",
       "        vertical-align: middle;\n",
       "    }\n",
       "\n",
       "    .dataframe tbody tr th {\n",
       "        vertical-align: top;\n",
       "    }\n",
       "\n",
       "    .dataframe thead th {\n",
       "        text-align: right;\n",
       "    }\n",
       "</style>\n",
       "<table border=\"1\" class=\"dataframe\">\n",
       "  <thead>\n",
       "    <tr style=\"text-align: right;\">\n",
       "      <th></th>\n",
       "      <th>Start_Date</th>\n",
       "      <th>End_Date</th>\n",
       "    </tr>\n",
       "    <tr>\n",
       "      <th>country</th>\n",
       "      <th></th>\n",
       "      <th></th>\n",
       "    </tr>\n",
       "  </thead>\n",
       "  <tbody>\n",
       "    <tr>\n",
       "      <th>Brazil</th>\n",
       "      <td>2020-03-01</td>\n",
       "      <td>2021-12-30</td>\n",
       "    </tr>\n",
       "  </tbody>\n",
       "</table>\n",
       "</div>"
      ],
      "text/plain": [
       "         Start_Date    End_Date\n",
       "country                        \n",
       "Brazil   2020-03-01  2021-12-30"
      ]
     },
     "execution_count": 31,
     "metadata": {},
     "output_type": "execute_result"
    }
   ],
   "source": [
    "#checking the samples intervals\n",
    "df.groupby('country')['date'].agg([('Start_Date', 'min'), ('End_Date', 'max')])"
   ]
  },
  {
   "cell_type": "code",
   "execution_count": 32,
   "metadata": {},
   "outputs": [
    {
     "data": {
      "text/plain": [
       "0"
      ]
     },
     "execution_count": 32,
     "metadata": {},
     "output_type": "execute_result"
    }
   ],
   "source": [
    "# Are any duplicated samples?\n",
    "df.duplicated('identifier').sum()"
   ]
  },
  {
   "cell_type": "code",
   "execution_count": 33,
   "metadata": {},
   "outputs": [
    {
     "data": {
      "text/plain": [
       "92598"
      ]
     },
     "execution_count": 33,
     "metadata": {},
     "output_type": "execute_result"
    }
   ],
   "source": [
    "# The non duplicated samples\n",
    "(~df.duplicated()).sum()"
   ]
  },
  {
   "cell_type": "code",
   "execution_count": 34,
   "metadata": {},
   "outputs": [
    {
     "data": {
      "text/plain": [
       "92598"
      ]
     },
     "execution_count": 34,
     "metadata": {},
     "output_type": "execute_result"
    }
   ],
   "source": [
    "# Considering every identifier is unique, sum the values from the days gives the final number of genomic sequences in the period.\n",
    "df['date'].value_counts().sort_index().sum()"
   ]
  },
  {
   "cell_type": "code",
   "execution_count": 35,
   "metadata": {},
   "outputs": [
    {
     "data": {
      "text/plain": [
       "2020-03-01     4\n",
       "2020-03-04     6\n",
       "2020-03-05     3\n",
       "2020-03-06     3\n",
       "2020-03-08     4\n",
       "              ..\n",
       "2021-12-26    12\n",
       "2021-12-27    32\n",
       "2021-12-28    35\n",
       "2021-12-29     5\n",
       "2021-12-30     1\n",
       "Name: date, Length: 667, dtype: int64"
      ]
     },
     "execution_count": 35,
     "metadata": {},
     "output_type": "execute_result"
    }
   ],
   "source": [
    "#cehcking the samples by date\n",
    "daily_sars = df['date'].value_counts().sort_index()\n",
    "daily_sars"
   ]
  },
  {
   "cell_type": "code",
   "execution_count": 36,
   "metadata": {},
   "outputs": [
    {
     "data": {
      "image/png": "[encoded data removed]",
      "text/plain": [
       "<Figure size 432x288 with 1 Axes>"
      ]
     },
     "metadata": {
      "needs_background": "light"
     },
     "output_type": "display_data"
    }
   ],
   "source": [
    "daily_sars.plot();"
   ]
  },
  {
   "cell_type": "code",
   "execution_count": 37,
   "metadata": {},
   "outputs": [
    {
     "data": {
      "image/png": "[encoded data removed]",
      "text/plain": [
       "<Figure size 432x288 with 1 Axes>"
      ]
     },
     "metadata": {
      "needs_background": "light"
     },
     "output_type": "display_data"
    }
   ],
   "source": [
    "rolling = daily_sars.rolling(7, center=True)\n",
    "\n",
    "data = pd.DataFrame({'input': daily_sars,\n",
    "                     'weekly rolling_mean': rolling.mean(),\n",
    "                     'weekly rolling_std': rolling.std()})\n",
    "ax = data.plot(style=['-', '--', ':'])\n",
    "ax.lines[0].set_alpha(0.3)"
   ]
  },
  {
   "cell_type": "markdown",
   "metadata": {},
   "source": [
    "#### How many daily SARS-CoV-2 samples were sequenced in Brazil, from **March 1st, 2020 to December 31st, 2021**?\n",
    "* In the interval from **March 1st, 2020 to December 31st, 2021** Brazil sequenced 92598 samples of SARS-CoV-2."
   ]
  },
  {
   "cell_type": "markdown",
   "metadata": {},
   "source": [
    "---"
   ]
  },
  {
   "cell_type": "markdown",
   "metadata": {},
   "source": [
    "* How well genome sequencing developed in 2020 and in 2021?"
   ]
  },
  {
   "cell_type": "code",
   "execution_count": 38,
   "metadata": {},
   "outputs": [
    {
     "data": {
      "text/plain": [
       "identifier        object\n",
       "date              object\n",
       "pango_lineage     object\n",
       "variant           object\n",
       "country           object\n",
       "state             object\n",
       "state_code        object\n",
       "ibge_code         object\n",
       "age               object\n",
       "sex               object\n",
       "lat              float64\n",
       "long             float64\n",
       "dtype: object"
      ]
     },
     "execution_count": 38,
     "metadata": {},
     "output_type": "execute_result"
    }
   ],
   "source": [
    "#Check the types for each column\n",
    "df.dtypes"
   ]
  },
  {
   "cell_type": "code",
   "execution_count": 39,
   "metadata": {},
   "outputs": [
    {
     "data": {
      "text/plain": [
       "identifier               object\n",
       "date             datetime64[ns]\n",
       "pango_lineage            object\n",
       "variant                  object\n",
       "country                  object\n",
       "state                    object\n",
       "state_code               object\n",
       "ibge_code                object\n",
       "age                      object\n",
       "sex                      object\n",
       "lat                     float64\n",
       "long                    float64\n",
       "dtype: object"
      ]
     },
     "execution_count": 39,
     "metadata": {},
     "output_type": "execute_result"
    }
   ],
   "source": [
    "# convert the 'Date' column to datetime format\n",
    "df['date']= pd.to_datetime(df['date'])\n",
    "df.dtypes"
   ]
  },
  {
   "cell_type": "code",
   "execution_count": 40,
   "metadata": {},
   "outputs": [
    {
     "data": {
      "text/html": [
       "<div>\n",
       "<style scoped>\n",
       "    .dataframe tbody tr th:only-of-type {\n",
       "        vertical-align: middle;\n",
       "    }\n",
       "\n",
       "    .dataframe tbody tr th {\n",
       "        vertical-align: top;\n",
       "    }\n",
       "\n",
       "    .dataframe thead th {\n",
       "        text-align: right;\n",
       "    }\n",
       "</style>\n",
       "<table border=\"1\" class=\"dataframe\">\n",
       "  <thead>\n",
       "    <tr style=\"text-align: right;\">\n",
       "      <th></th>\n",
       "      <th>identifier</th>\n",
       "      <th>date</th>\n",
       "      <th>pango_lineage</th>\n",
       "      <th>variant</th>\n",
       "      <th>country</th>\n",
       "      <th>state</th>\n",
       "      <th>state_code</th>\n",
       "      <th>ibge_code</th>\n",
       "      <th>age</th>\n",
       "      <th>sex</th>\n",
       "      <th>lat</th>\n",
       "      <th>long</th>\n",
       "      <th>Year</th>\n",
       "    </tr>\n",
       "  </thead>\n",
       "  <tbody>\n",
       "    <tr>\n",
       "      <th>0</th>\n",
       "      <td>f13d424ea9d922139c0fdf8248983cb7bf70ab12</td>\n",
       "      <td>2020-03-01</td>\n",
       "      <td>B.1.1.33</td>\n",
       "      <td>Other variants</td>\n",
       "      <td>Brazil</td>\n",
       "      <td>Rio de Janeiro</td>\n",
       "      <td>RJ</td>\n",
       "      <td>BR33</td>\n",
       "      <td>?</td>\n",
       "      <td>?</td>\n",
       "      <td>-22.911014</td>\n",
       "      <td>-43.209373</td>\n",
       "      <td>2020</td>\n",
       "    </tr>\n",
       "    <tr>\n",
       "      <th>1</th>\n",
       "      <td>1b036bc8f04309aeae963ff7350b0f5253595e76</td>\n",
       "      <td>2020-03-01</td>\n",
       "      <td>B.1.1</td>\n",
       "      <td>Other variants</td>\n",
       "      <td>Brazil</td>\n",
       "      <td>Rio Grande do Sul</td>\n",
       "      <td>RS</td>\n",
       "      <td>BR43</td>\n",
       "      <td>53</td>\n",
       "      <td>Male</td>\n",
       "      <td>-29.842528</td>\n",
       "      <td>-53.768058</td>\n",
       "      <td>2020</td>\n",
       "    </tr>\n",
       "    <tr>\n",
       "      <th>2</th>\n",
       "      <td>d7159e22a06c290aedfd0c51f036e81f60dd2210</td>\n",
       "      <td>2020-03-01</td>\n",
       "      <td>B.1.1</td>\n",
       "      <td>Other variants</td>\n",
       "      <td>Brazil</td>\n",
       "      <td>Rio Grande do Sul</td>\n",
       "      <td>RS</td>\n",
       "      <td>BR43</td>\n",
       "      <td>47</td>\n",
       "      <td>Female</td>\n",
       "      <td>-29.842528</td>\n",
       "      <td>-53.768058</td>\n",
       "      <td>2020</td>\n",
       "    </tr>\n",
       "    <tr>\n",
       "      <th>3</th>\n",
       "      <td>98b49cb92dc2516a6b061f16c27b3a12e9404885</td>\n",
       "      <td>2020-03-01</td>\n",
       "      <td>B.1</td>\n",
       "      <td>Other variants</td>\n",
       "      <td>Brazil</td>\n",
       "      <td>Rio Grande do Sul</td>\n",
       "      <td>RS</td>\n",
       "      <td>BR43</td>\n",
       "      <td>82</td>\n",
       "      <td>Male</td>\n",
       "      <td>-29.842528</td>\n",
       "      <td>-53.768058</td>\n",
       "      <td>2020</td>\n",
       "    </tr>\n",
       "    <tr>\n",
       "      <th>4</th>\n",
       "      <td>a5ced01b07bfa9705841a45c5b236be5590e7fd1</td>\n",
       "      <td>2020-03-04</td>\n",
       "      <td>B</td>\n",
       "      <td>Other variants</td>\n",
       "      <td>Brazil</td>\n",
       "      <td>Distrito Federal</td>\n",
       "      <td>DF</td>\n",
       "      <td>BR53</td>\n",
       "      <td>52</td>\n",
       "      <td>Female</td>\n",
       "      <td>-15.775446</td>\n",
       "      <td>-47.797089</td>\n",
       "      <td>2020</td>\n",
       "    </tr>\n",
       "  </tbody>\n",
       "</table>\n",
       "</div>"
      ],
      "text/plain": [
       "                                 identifier       date pango_lineage  \\\n",
       "0  f13d424ea9d922139c0fdf8248983cb7bf70ab12 2020-03-01      B.1.1.33   \n",
       "1  1b036bc8f04309aeae963ff7350b0f5253595e76 2020-03-01         B.1.1   \n",
       "2  d7159e22a06c290aedfd0c51f036e81f60dd2210 2020-03-01         B.1.1   \n",
       "3  98b49cb92dc2516a6b061f16c27b3a12e9404885 2020-03-01           B.1   \n",
       "4  a5ced01b07bfa9705841a45c5b236be5590e7fd1 2020-03-04             B   \n",
       "\n",
       "          variant country              state state_code ibge_code age     sex  \\\n",
       "0  Other variants  Brazil     Rio de Janeiro         RJ      BR33   ?       ?   \n",
       "1  Other variants  Brazil  Rio Grande do Sul         RS      BR43  53    Male   \n",
       "2  Other variants  Brazil  Rio Grande do Sul         RS      BR43  47  Female   \n",
       "3  Other variants  Brazil  Rio Grande do Sul         RS      BR43  82    Male   \n",
       "4  Other variants  Brazil   Distrito Federal         DF      BR53  52  Female   \n",
       "\n",
       "         lat       long  Year  \n",
       "0 -22.911014 -43.209373  2020  \n",
       "1 -29.842528 -53.768058  2020  \n",
       "2 -29.842528 -53.768058  2020  \n",
       "3 -29.842528 -53.768058  2020  \n",
       "4 -15.775446 -47.797089  2020  "
      ]
     },
     "execution_count": 40,
     "metadata": {},
     "output_type": "execute_result"
    }
   ],
   "source": [
    "# creating a column for the years\n",
    "df['Year'] = df.date.dt.year\n",
    "df.head()"
   ]
  },
  {
   "cell_type": "code",
   "execution_count": 41,
   "metadata": {},
   "outputs": [
    {
     "data": {
      "text/plain": [
       "2020     6436\n",
       "2021    86162\n",
       "Name: Year, dtype: int64"
      ]
     },
     "execution_count": 41,
     "metadata": {},
     "output_type": "execute_result"
    }
   ],
   "source": [
    "#number of events by year. As we already know the dataset has only unique samples\n",
    "df_year = df.Year.value_counts().sort_index().head()\n",
    "df_year.head()"
   ]
  },
  {
   "cell_type": "code",
   "execution_count": 42,
   "metadata": {},
   "outputs": [],
   "source": [
    "# creating a column for months and days\n",
    "df['month-day'] = df.date.dt.strftime('%m-%d')"
   ]
  },
  {
   "cell_type": "markdown",
   "metadata": {},
   "source": [
    "#### How well genome sequencing developed in 2020 and in 2021?\n",
    "* 2021 has 13 times more genome sequences than 2020."
   ]
  },
  {
   "cell_type": "markdown",
   "metadata": {},
   "source": [
    "---"
   ]
  },
  {
   "cell_type": "markdown",
   "metadata": {},
   "source": [
    "### 2. SARS-CoV-2 lineages circulated in Brazil\n",
    "* How was the distribution of the different variants (Alpha, Beta, Gamma, Delta, and Omicron) in the Brazilian states?"
   ]
  },
  {
   "cell_type": "code",
   "execution_count": 43,
   "metadata": {},
   "outputs": [
    {
     "data": {
      "text/plain": [
       "-91484"
      ]
     },
     "execution_count": 43,
     "metadata": {},
     "output_type": "execute_result"
    }
   ],
   "source": [
    "~(df.duplicated(subset=['pango_lineage', 'state'])).sum()"
   ]
  },
  {
   "cell_type": "code",
   "execution_count": 53,
   "metadata": {},
   "outputs": [],
   "source": [
    "#pandas function for create new column with pango_lineage info adding Who labels for (Alpha, Beta, Gamma, Delta, and Omicron)\n",
    "def categorise(row):  \n",
    "    if row['pango_lineage'] == 'B.1.1.7':\n",
    "        return 'Alpha'\n",
    "    elif row['pango_lineage'] == 'B.1.135':\n",
    "        return 'Beta'\n",
    "    elif row['pango_lineage'] == 'P.1':\n",
    "        return 'Gamma'\n",
    "    elif row['pango_lineage'] == 'B.1.617.1':\n",
    "        return 'Kappa'\n",
    "    elif row['pango_lineage'] == 'B.1.617.2':\n",
    "        return 'Delta'\n",
    "    elif row['pango_lineage'] == 'BA.1':\n",
    "        return 'Omicron'\n",
    "    elif row['pango_lineage'] == 'BA.2':\n",
    "        return 'Omicron'\n",
    "    elif row['pango_lineage'] == 'B.1.427':\n",
    "        return 'Episilon'\n",
    "    elif row['pango_lineage'] == 'B.1.429':\n",
    "        return 'Episilon'\n",
    "    elif row['pango_lineage'] == 'B.1.525':\n",
    "        return 'Eta'\n",
    "    elif row['pango_lineage'] == 'B.1.526':\n",
    "        return 'Iota'\n",
    "    elif row['pango_lineage'] == 'C.37':\n",
    "        return 'Lambda'\n",
    "    elif row['pango_lineage'] == 'B.1.621':\n",
    "        return 'Mu'\n",
    "    return 'VOI'"
   ]
  },
  {
   "cell_type": "code",
   "execution_count": 65,
   "metadata": {},
   "outputs": [
    {
     "data": {
      "text/html": [
       "<div>\n",
       "<style scoped>\n",
       "    .dataframe tbody tr th:only-of-type {\n",
       "        vertical-align: middle;\n",
       "    }\n",
       "\n",
       "    .dataframe tbody tr th {\n",
       "        vertical-align: top;\n",
       "    }\n",
       "\n",
       "    .dataframe thead th {\n",
       "        text-align: right;\n",
       "    }\n",
       "</style>\n",
       "<table border=\"1\" class=\"dataframe\">\n",
       "  <thead>\n",
       "    <tr style=\"text-align: right;\">\n",
       "      <th></th>\n",
       "      <th>identifier</th>\n",
       "      <th>date</th>\n",
       "      <th>pango_lineage</th>\n",
       "      <th>variant</th>\n",
       "      <th>country</th>\n",
       "      <th>state</th>\n",
       "      <th>state_code</th>\n",
       "      <th>ibge_code</th>\n",
       "      <th>age</th>\n",
       "      <th>sex</th>\n",
       "      <th>lat</th>\n",
       "      <th>long</th>\n",
       "      <th>Year</th>\n",
       "      <th>month-day</th>\n",
       "      <th>who_label</th>\n",
       "    </tr>\n",
       "  </thead>\n",
       "  <tbody>\n",
       "    <tr>\n",
       "      <th>92593</th>\n",
       "      <td>858abbf01e1d950b739ec92c8540aea164119d95</td>\n",
       "      <td>2021-12-29</td>\n",
       "      <td>BA.1</td>\n",
       "      <td>Omicron</td>\n",
       "      <td>Brazil</td>\n",
       "      <td>Pernambuco</td>\n",
       "      <td>PE</td>\n",
       "      <td>BR26</td>\n",
       "      <td>9</td>\n",
       "      <td>Male</td>\n",
       "      <td>-8.411632</td>\n",
       "      <td>-37.59197</td>\n",
       "      <td>2021</td>\n",
       "      <td>12-29</td>\n",
       "      <td>Omicron</td>\n",
       "    </tr>\n",
       "    <tr>\n",
       "      <th>92594</th>\n",
       "      <td>fbda02031ff4a163ad92e5be16b6a041a9747238</td>\n",
       "      <td>2021-12-29</td>\n",
       "      <td>BA.1</td>\n",
       "      <td>Omicron</td>\n",
       "      <td>Brazil</td>\n",
       "      <td>Pernambuco</td>\n",
       "      <td>PE</td>\n",
       "      <td>BR26</td>\n",
       "      <td>37</td>\n",
       "      <td>Female</td>\n",
       "      <td>-8.411632</td>\n",
       "      <td>-37.59197</td>\n",
       "      <td>2021</td>\n",
       "      <td>12-29</td>\n",
       "      <td>Omicron</td>\n",
       "    </tr>\n",
       "    <tr>\n",
       "      <th>92595</th>\n",
       "      <td>f381bbacba22f7cecd5dc47885d6e0f9b9f91dea</td>\n",
       "      <td>2021-12-29</td>\n",
       "      <td>BA.1</td>\n",
       "      <td>Omicron</td>\n",
       "      <td>Brazil</td>\n",
       "      <td>Pernambuco</td>\n",
       "      <td>PE</td>\n",
       "      <td>BR26</td>\n",
       "      <td>64</td>\n",
       "      <td>Female</td>\n",
       "      <td>-8.411632</td>\n",
       "      <td>-37.59197</td>\n",
       "      <td>2021</td>\n",
       "      <td>12-29</td>\n",
       "      <td>Omicron</td>\n",
       "    </tr>\n",
       "    <tr>\n",
       "      <th>92596</th>\n",
       "      <td>ef065e675a53838cfbd28d004386bf8f56ae0c03</td>\n",
       "      <td>2021-12-29</td>\n",
       "      <td>BA.1</td>\n",
       "      <td>Omicron</td>\n",
       "      <td>Brazil</td>\n",
       "      <td>Pernambuco</td>\n",
       "      <td>PE</td>\n",
       "      <td>BR26</td>\n",
       "      <td>43</td>\n",
       "      <td>Male</td>\n",
       "      <td>-8.411632</td>\n",
       "      <td>-37.59197</td>\n",
       "      <td>2021</td>\n",
       "      <td>12-29</td>\n",
       "      <td>Omicron</td>\n",
       "    </tr>\n",
       "    <tr>\n",
       "      <th>92597</th>\n",
       "      <td>fe08aec6cee70f8751c54657a1f01341a9ced4c5</td>\n",
       "      <td>2021-12-30</td>\n",
       "      <td>BA.1</td>\n",
       "      <td>Omicron</td>\n",
       "      <td>Brazil</td>\n",
       "      <td>Pernambuco</td>\n",
       "      <td>PE</td>\n",
       "      <td>BR26</td>\n",
       "      <td>26</td>\n",
       "      <td>Female</td>\n",
       "      <td>-8.411632</td>\n",
       "      <td>-37.59197</td>\n",
       "      <td>2021</td>\n",
       "      <td>12-30</td>\n",
       "      <td>Omicron</td>\n",
       "    </tr>\n",
       "  </tbody>\n",
       "</table>\n",
       "</div>"
      ],
      "text/plain": [
       "                                     identifier       date pango_lineage  \\\n",
       "92593  858abbf01e1d950b739ec92c8540aea164119d95 2021-12-29          BA.1   \n",
       "92594  fbda02031ff4a163ad92e5be16b6a041a9747238 2021-12-29          BA.1   \n",
       "92595  f381bbacba22f7cecd5dc47885d6e0f9b9f91dea 2021-12-29          BA.1   \n",
       "92596  ef065e675a53838cfbd28d004386bf8f56ae0c03 2021-12-29          BA.1   \n",
       "92597  fe08aec6cee70f8751c54657a1f01341a9ced4c5 2021-12-30          BA.1   \n",
       "\n",
       "       variant country       state state_code ibge_code age     sex       lat  \\\n",
       "92593  Omicron  Brazil  Pernambuco         PE      BR26   9    Male -8.411632   \n",
       "92594  Omicron  Brazil  Pernambuco         PE      BR26  37  Female -8.411632   \n",
       "92595  Omicron  Brazil  Pernambuco         PE      BR26  64  Female -8.411632   \n",
       "92596  Omicron  Brazil  Pernambuco         PE      BR26  43    Male -8.411632   \n",
       "92597  Omicron  Brazil  Pernambuco         PE      BR26  26  Female -8.411632   \n",
       "\n",
       "           long  Year month-day who_label  \n",
       "92593 -37.59197  2021     12-29   Omicron  \n",
       "92594 -37.59197  2021     12-29   Omicron  \n",
       "92595 -37.59197  2021     12-29   Omicron  \n",
       "92596 -37.59197  2021     12-29   Omicron  \n",
       "92597 -37.59197  2021     12-30   Omicron  "
      ]
     },
     "execution_count": 65,
     "metadata": {},
     "output_type": "execute_result"
    }
   ],
   "source": [
    "#numpy for create new column with pango_lineage info adding Who labels for (Alpha, Beta, Gamma, Delta, and Omicron)\n",
    "df['who_label'] = df.apply(lambda row: categorise(row), axis=1)\n",
    "df.tail()"
   ]
  },
  {
   "cell_type": "markdown",
   "metadata": {},
   "source": [
    "---"
   ]
  },
  {
   "cell_type": "markdown",
   "metadata": {},
   "source": [
    "### 3.Explore visualizations     \n",
    "* Using the [visual-vocabulary from Financial-Times](https://github.com/Financial-Times/chart-doctor/tree/main/visual-vocabulary) explore your creativity, and provide answers to new questions not yet considered in the previous tasks."
   ]
  },
  {
   "cell_type": "markdown",
   "metadata": {},
   "source": [
    "---"
   ]
  },
  {
   "cell_type": "code",
   "execution_count": 67,
   "metadata": {},
   "outputs": [],
   "source": [
    "# save data for BI\n",
    "df.to_csv('itps_metadata_br.csv', index=False)"
   ]
  }
 ],
 "metadata": {
  "interpreter": {
   "hash": "357a8f3dcad644235a7d8c9fa3a72471c3bab363750d91839c868e205b47bf00"
  },
  "kernelspec": {
   "display_name": "Python 3.8.10 ('pop')",
   "language": "python",
   "name": "python3"
  },
  "language_info": {
   "codemirror_mode": {
    "name": "ipython",
    "version": 3
   },
   "file_extension": ".py",
   "mimetype": "text/x-python",
   "name": "python",
   "nbconvert_exporter": "python",
   "pygments_lexer": "ipython3",
   "version": "3.8.8"
  },
  "orig_nbformat": 4
 },
 "nbformat": 4,
 "nbformat_minor": 2
}
