{
 "cells": [
  {
   "cell_type": "markdown",
   "metadata": {},
   "source": [
    "# Data challenge\n",
    "## ITpS postdoc recruitment\n",
    "This is the scirpt from the challenge of data analysis & visualization.\n"
   ]
  },
  {
   "cell_type": "markdown",
   "metadata": {},
   "source": [
    "### Questions"
   ]
  },
  {
   "cell_type": "markdown",
   "metadata": {},
   "source": [
    "1. Genomic surveillance in Brazil has improved over the past months of COVID-19 pandemic. Using the\n",
    "dataset described above, show us how many daily SARS-CoV-2 samples were sequenced in Brazil, from\n",
    "March 1st , 2020 to December 31 st, 2021. How well genome sequencing developed in 2020 and in 2021?\n",
    "2. Dozens (likely hundreds) of SARS-CoV-2 lineages circulated in Brazil during the current COVID-19\n",
    "pandemic. Some of these lineages were classified as “variants of concern” (VOC) by the WHO. As in most\n",
    "countries, once a new VOC is introduced in Brazil, it may replace the circulating viruses, becoming dominant.\n",
    "Using the same dataset provided above, how was the distribution of the different variants (Alpha, Beta,\n",
    "Gamma, Delta, and Omicron) in the Brazilian states?\n",
    "3. The data provided can be visualized in many ways, and this visual vocabulary illustrates alternative\n",
    "visualizations. Using the same dataset, explore your creativity, and provide answers to new questions not yet\n",
    "considered in the previous tasks."
   ]
  },
  {
   "cell_type": "markdown",
   "metadata": {},
   "source": [
    "#### Libraries\n"
   ]
  },
  {
   "cell_type": "code",
   "execution_count": 43,
   "metadata": {},
   "outputs": [],
   "source": [
    "import pandas as pd\n",
    "import numpy as np\n",
    "\n",
    "from datetime import datetime\n",
    "\n",
    "%matplotlib inline\n",
    "import matplotlib.pyplot as plt\n",
    "import seaborn as sns; seaborn.set()\n",
    "import plotly.express as px"
   ]
  },
  {
   "cell_type": "markdown",
   "metadata": {},
   "source": [
    "#### Metadata of variants from Brazil"
   ]
  },
  {
   "cell_type": "code",
   "execution_count": 2,
   "metadata": {},
   "outputs": [
    {
     "data": {
      "text/html": [
       "<div>\n",
       "<style scoped>\n",
       "    .dataframe tbody tr th:only-of-type {\n",
       "        vertical-align: middle;\n",
       "    }\n",
       "\n",
       "    .dataframe tbody tr th {\n",
       "        vertical-align: top;\n",
       "    }\n",
       "\n",
       "    .dataframe thead th {\n",
       "        text-align: right;\n",
       "    }\n",
       "</style>\n",
       "<table border=\"1\" class=\"dataframe\">\n",
       "  <thead>\n",
       "    <tr style=\"text-align: right;\">\n",
       "      <th></th>\n",
       "      <th>identifier</th>\n",
       "      <th>date</th>\n",
       "      <th>pango_lineage</th>\n",
       "      <th>variant</th>\n",
       "      <th>country</th>\n",
       "      <th>state</th>\n",
       "      <th>state_code</th>\n",
       "      <th>ibge_code</th>\n",
       "      <th>age</th>\n",
       "      <th>sex</th>\n",
       "      <th>lat</th>\n",
       "      <th>long</th>\n",
       "    </tr>\n",
       "  </thead>\n",
       "  <tbody>\n",
       "    <tr>\n",
       "      <th>0</th>\n",
       "      <td>f13d424ea9d922139c0fdf8248983cb7bf70ab12</td>\n",
       "      <td>2020-03-01</td>\n",
       "      <td>B.1.1.33</td>\n",
       "      <td>Other variants</td>\n",
       "      <td>Brazil</td>\n",
       "      <td>Rio de Janeiro</td>\n",
       "      <td>RJ</td>\n",
       "      <td>BR33</td>\n",
       "      <td>?</td>\n",
       "      <td>?</td>\n",
       "      <td>-22.911014</td>\n",
       "      <td>-43.209373</td>\n",
       "    </tr>\n",
       "    <tr>\n",
       "      <th>1</th>\n",
       "      <td>1b036bc8f04309aeae963ff7350b0f5253595e76</td>\n",
       "      <td>2020-03-01</td>\n",
       "      <td>B.1.1</td>\n",
       "      <td>Other variants</td>\n",
       "      <td>Brazil</td>\n",
       "      <td>Rio Grande do Sul</td>\n",
       "      <td>RS</td>\n",
       "      <td>BR43</td>\n",
       "      <td>53</td>\n",
       "      <td>Male</td>\n",
       "      <td>-29.842528</td>\n",
       "      <td>-53.768058</td>\n",
       "    </tr>\n",
       "    <tr>\n",
       "      <th>2</th>\n",
       "      <td>d7159e22a06c290aedfd0c51f036e81f60dd2210</td>\n",
       "      <td>2020-03-01</td>\n",
       "      <td>B.1.1</td>\n",
       "      <td>Other variants</td>\n",
       "      <td>Brazil</td>\n",
       "      <td>Rio Grande do Sul</td>\n",
       "      <td>RS</td>\n",
       "      <td>BR43</td>\n",
       "      <td>47</td>\n",
       "      <td>Female</td>\n",
       "      <td>-29.842528</td>\n",
       "      <td>-53.768058</td>\n",
       "    </tr>\n",
       "    <tr>\n",
       "      <th>3</th>\n",
       "      <td>98b49cb92dc2516a6b061f16c27b3a12e9404885</td>\n",
       "      <td>2020-03-01</td>\n",
       "      <td>B.1</td>\n",
       "      <td>Other variants</td>\n",
       "      <td>Brazil</td>\n",
       "      <td>Rio Grande do Sul</td>\n",
       "      <td>RS</td>\n",
       "      <td>BR43</td>\n",
       "      <td>82</td>\n",
       "      <td>Male</td>\n",
       "      <td>-29.842528</td>\n",
       "      <td>-53.768058</td>\n",
       "    </tr>\n",
       "    <tr>\n",
       "      <th>4</th>\n",
       "      <td>a5ced01b07bfa9705841a45c5b236be5590e7fd1</td>\n",
       "      <td>2020-03-04</td>\n",
       "      <td>B</td>\n",
       "      <td>Other variants</td>\n",
       "      <td>Brazil</td>\n",
       "      <td>Distrito Federal</td>\n",
       "      <td>DF</td>\n",
       "      <td>BR53</td>\n",
       "      <td>52</td>\n",
       "      <td>Female</td>\n",
       "      <td>-15.775446</td>\n",
       "      <td>-47.797089</td>\n",
       "    </tr>\n",
       "  </tbody>\n",
       "</table>\n",
       "</div>"
      ],
      "text/plain": [
       "                                 identifier        date pango_lineage  \\\n",
       "0  f13d424ea9d922139c0fdf8248983cb7bf70ab12  2020-03-01      B.1.1.33   \n",
       "1  1b036bc8f04309aeae963ff7350b0f5253595e76  2020-03-01         B.1.1   \n",
       "2  d7159e22a06c290aedfd0c51f036e81f60dd2210  2020-03-01         B.1.1   \n",
       "3  98b49cb92dc2516a6b061f16c27b3a12e9404885  2020-03-01           B.1   \n",
       "4  a5ced01b07bfa9705841a45c5b236be5590e7fd1  2020-03-04             B   \n",
       "\n",
       "          variant country              state state_code ibge_code age     sex  \\\n",
       "0  Other variants  Brazil     Rio de Janeiro         RJ      BR33   ?       ?   \n",
       "1  Other variants  Brazil  Rio Grande do Sul         RS      BR43  53    Male   \n",
       "2  Other variants  Brazil  Rio Grande do Sul         RS      BR43  47  Female   \n",
       "3  Other variants  Brazil  Rio Grande do Sul         RS      BR43  82    Male   \n",
       "4  Other variants  Brazil   Distrito Federal         DF      BR53  52  Female   \n",
       "\n",
       "         lat       long  \n",
       "0 -22.911014 -43.209373  \n",
       "1 -29.842528 -53.768058  \n",
       "2 -29.842528 -53.768058  \n",
       "3 -29.842528 -53.768058  \n",
       "4 -15.775446 -47.797089  "
      ]
     },
     "execution_count": 2,
     "metadata": {},
     "output_type": "execute_result"
    }
   ],
   "source": [
    "df = pd.read_csv(\"/home/bragatte/Documentos/GitHub/ITPs/metadata_brazil_variants.tsv\", sep='\\t')\n",
    "df.head()"
   ]
  },
  {
   "cell_type": "code",
   "execution_count": 3,
   "metadata": {},
   "outputs": [
    {
     "name": "stdout",
     "output_type": "stream",
     "text": [
      "The dataset has 92598 lines and 12 columns\n"
     ]
    }
   ],
   "source": [
    "# exploring dataset\n",
    "df.shape\n",
    "\n",
    "print('The dataset has {} lines and {} columns'.format(df.shape[0], df.shape[1]))"
   ]
  },
  {
   "cell_type": "code",
   "execution_count": 4,
   "metadata": {},
   "outputs": [
    {
     "data": {
      "text/plain": [
       "Index(['identifier', 'date', 'pango_lineage', 'variant', 'country', 'state',\n",
       "       'state_code', 'ibge_code', 'age', 'sex', 'lat', 'long'],\n",
       "      dtype='object')"
      ]
     },
     "execution_count": 4,
     "metadata": {},
     "output_type": "execute_result"
    }
   ],
   "source": [
    "#Columns headers\n",
    "df.columns"
   ]
  },
  {
   "cell_type": "markdown",
   "metadata": {},
   "source": [
    "### 1. Genomic surveillance in Brazil\n",
    "* How many daily SARS-CoV-2 samples were sequenced in Brazil, from **March 1st, 2020 to December 31st, 2021**?"
   ]
  },
  {
   "cell_type": "code",
   "execution_count": 5,
   "metadata": {},
   "outputs": [
    {
     "name": "stdout",
     "output_type": "stream",
     "text": [
      "The columns to explore for the first question are date and country\n"
     ]
    }
   ],
   "source": [
    "df.columns\n",
    "\n",
    "print('The columns to explore for the first question are {} and {}'.format(df.columns[1], df.columns[4]))"
   ]
  },
  {
   "cell_type": "code",
   "execution_count": 6,
   "metadata": {},
   "outputs": [
    {
     "data": {
      "text/html": [
       "<div>\n",
       "<style scoped>\n",
       "    .dataframe tbody tr th:only-of-type {\n",
       "        vertical-align: middle;\n",
       "    }\n",
       "\n",
       "    .dataframe tbody tr th {\n",
       "        vertical-align: top;\n",
       "    }\n",
       "\n",
       "    .dataframe thead th {\n",
       "        text-align: right;\n",
       "    }\n",
       "</style>\n",
       "<table border=\"1\" class=\"dataframe\">\n",
       "  <thead>\n",
       "    <tr style=\"text-align: right;\">\n",
       "      <th></th>\n",
       "      <th>Start_Date</th>\n",
       "      <th>End_Date</th>\n",
       "    </tr>\n",
       "    <tr>\n",
       "      <th>country</th>\n",
       "      <th></th>\n",
       "      <th></th>\n",
       "    </tr>\n",
       "  </thead>\n",
       "  <tbody>\n",
       "    <tr>\n",
       "      <th>Brazil</th>\n",
       "      <td>2020-03-01</td>\n",
       "      <td>2021-12-30</td>\n",
       "    </tr>\n",
       "  </tbody>\n",
       "</table>\n",
       "</div>"
      ],
      "text/plain": [
       "         Start_Date    End_Date\n",
       "country                        \n",
       "Brazil   2020-03-01  2021-12-30"
      ]
     },
     "execution_count": 6,
     "metadata": {},
     "output_type": "execute_result"
    }
   ],
   "source": [
    "#checking the samples intervals\n",
    "df.groupby('country')['date'].agg([('Start_Date', 'min'), ('End_Date', 'max')])"
   ]
  },
  {
   "cell_type": "code",
   "execution_count": 7,
   "metadata": {},
   "outputs": [
    {
     "data": {
      "text/plain": [
       "0"
      ]
     },
     "execution_count": 7,
     "metadata": {},
     "output_type": "execute_result"
    }
   ],
   "source": [
    "# Are any duplicated samples?\n",
    "df.duplicated('identifier').sum()"
   ]
  },
  {
   "cell_type": "code",
   "execution_count": 8,
   "metadata": {},
   "outputs": [
    {
     "data": {
      "text/plain": [
       "92598"
      ]
     },
     "execution_count": 8,
     "metadata": {},
     "output_type": "execute_result"
    }
   ],
   "source": [
    "# The non duplicated samples\n",
    "(~df.duplicated()).sum()"
   ]
  },
  {
   "cell_type": "code",
   "execution_count": 9,
   "metadata": {},
   "outputs": [
    {
     "data": {
      "text/plain": [
       "92598"
      ]
     },
     "execution_count": 9,
     "metadata": {},
     "output_type": "execute_result"
    }
   ],
   "source": [
    "# Considering every identifier is unique, sum the values from the days gives the final number of genomic sequences in the period.\n",
    "df['date'].value_counts().sort_index().sum()"
   ]
  },
  {
   "cell_type": "code",
   "execution_count": 10,
   "metadata": {},
   "outputs": [
    {
     "data": {
      "text/plain": [
       "2020-03-01     4\n",
       "2020-03-04     6\n",
       "2020-03-05     3\n",
       "2020-03-06     3\n",
       "2020-03-08     4\n",
       "              ..\n",
       "2021-12-26    12\n",
       "2021-12-27    32\n",
       "2021-12-28    35\n",
       "2021-12-29     5\n",
       "2021-12-30     1\n",
       "Name: date, Length: 667, dtype: int64"
      ]
     },
     "execution_count": 10,
     "metadata": {},
     "output_type": "execute_result"
    }
   ],
   "source": [
    "#cehcking the samples by date\n",
    "daily_sars = df['date'].value_counts().sort_index()\n",
    "daily_sars"
   ]
  },
  {
   "cell_type": "code",
   "execution_count": 11,
   "metadata": {},
   "outputs": [
    {
     "data": {
      "image/png": "[encoded data removed]",
      "text/plain": [
       "<Figure size 432x288 with 1 Axes>"
      ]
     },
     "metadata": {},
     "output_type": "display_data"
    }
   ],
   "source": [
    "daily_sars.plot();"
   ]
  },
  {
   "cell_type": "code",
   "execution_count": 12,
   "metadata": {},
   "outputs": [
    {
     "data": {
      "image/png": "[encoded data removed]",
      "text/plain": [
       "<Figure size 432x288 with 1 Axes>"
      ]
     },
     "metadata": {},
     "output_type": "display_data"
    }
   ],
   "source": [
    "rolling = daily_sars.rolling(7, center=True)\n",
    "\n",
    "data = pd.DataFrame({'input': daily_sars,\n",
    "                     'weekly rolling_mean': rolling.mean(),\n",
    "                     'weekly rolling_std': rolling.std()})\n",
    "ax = data.plot(style=['-', '--', ':'])\n",
    "ax.lines[0].set_alpha(0.3)"
   ]
  },
  {
   "cell_type": "markdown",
   "metadata": {},
   "source": [
    "#### How many daily SARS-CoV-2 samples were sequenced in Brazil, from **March 1st, 2020 to December 31st, 2021**?\n",
    "* In the interval from **March 1st, 2020 to December 31st, 2021** Brazil sequenced 92598 samples of SARS-CoV-2."
   ]
  },
  {
   "cell_type": "markdown",
   "metadata": {},
   "source": [
    "---"
   ]
  },
  {
   "cell_type": "markdown",
   "metadata": {},
   "source": [
    "* How well genome sequencing developed in 2020 and in 2021?"
   ]
  },
  {
   "cell_type": "code",
   "execution_count": 15,
   "metadata": {},
   "outputs": [
    {
     "data": {
      "text/plain": [
       "identifier               object\n",
       "date             datetime64[ns]\n",
       "pango_lineage            object\n",
       "variant                  object\n",
       "country                  object\n",
       "state                    object\n",
       "state_code               object\n",
       "ibge_code                object\n",
       "age                      object\n",
       "sex                      object\n",
       "lat                     float64\n",
       "long                    float64\n",
       "dtype: object"
      ]
     },
     "execution_count": 15,
     "metadata": {},
     "output_type": "execute_result"
    }
   ],
   "source": [
    "#Check the types for each column\n",
    "df.dtypes"
   ]
  },
  {
   "cell_type": "code",
   "execution_count": 16,
   "metadata": {},
   "outputs": [
    {
     "data": {
      "text/html": [
       "<div>\n",
       "<style scoped>\n",
       "    .dataframe tbody tr th:only-of-type {\n",
       "        vertical-align: middle;\n",
       "    }\n",
       "\n",
       "    .dataframe tbody tr th {\n",
       "        vertical-align: top;\n",
       "    }\n",
       "\n",
       "    .dataframe thead th {\n",
       "        text-align: right;\n",
       "    }\n",
       "</style>\n",
       "<table border=\"1\" class=\"dataframe\">\n",
       "  <thead>\n",
       "    <tr style=\"text-align: right;\">\n",
       "      <th></th>\n",
       "      <th>identifier</th>\n",
       "      <th>date</th>\n",
       "      <th>pango_lineage</th>\n",
       "      <th>variant</th>\n",
       "      <th>country</th>\n",
       "      <th>state</th>\n",
       "      <th>state_code</th>\n",
       "      <th>ibge_code</th>\n",
       "      <th>age</th>\n",
       "      <th>sex</th>\n",
       "      <th>lat</th>\n",
       "      <th>long</th>\n",
       "      <th>Year</th>\n",
       "    </tr>\n",
       "  </thead>\n",
       "  <tbody>\n",
       "    <tr>\n",
       "      <th>0</th>\n",
       "      <td>f13d424ea9d922139c0fdf8248983cb7bf70ab12</td>\n",
       "      <td>2020-03-01</td>\n",
       "      <td>B.1.1.33</td>\n",
       "      <td>Other variants</td>\n",
       "      <td>Brazil</td>\n",
       "      <td>Rio de Janeiro</td>\n",
       "      <td>RJ</td>\n",
       "      <td>BR33</td>\n",
       "      <td>?</td>\n",
       "      <td>?</td>\n",
       "      <td>-22.911014</td>\n",
       "      <td>-43.209373</td>\n",
       "      <td>2020</td>\n",
       "    </tr>\n",
       "    <tr>\n",
       "      <th>1</th>\n",
       "      <td>1b036bc8f04309aeae963ff7350b0f5253595e76</td>\n",
       "      <td>2020-03-01</td>\n",
       "      <td>B.1.1</td>\n",
       "      <td>Other variants</td>\n",
       "      <td>Brazil</td>\n",
       "      <td>Rio Grande do Sul</td>\n",
       "      <td>RS</td>\n",
       "      <td>BR43</td>\n",
       "      <td>53</td>\n",
       "      <td>Male</td>\n",
       "      <td>-29.842528</td>\n",
       "      <td>-53.768058</td>\n",
       "      <td>2020</td>\n",
       "    </tr>\n",
       "    <tr>\n",
       "      <th>2</th>\n",
       "      <td>d7159e22a06c290aedfd0c51f036e81f60dd2210</td>\n",
       "      <td>2020-03-01</td>\n",
       "      <td>B.1.1</td>\n",
       "      <td>Other variants</td>\n",
       "      <td>Brazil</td>\n",
       "      <td>Rio Grande do Sul</td>\n",
       "      <td>RS</td>\n",
       "      <td>BR43</td>\n",
       "      <td>47</td>\n",
       "      <td>Female</td>\n",
       "      <td>-29.842528</td>\n",
       "      <td>-53.768058</td>\n",
       "      <td>2020</td>\n",
       "    </tr>\n",
       "    <tr>\n",
       "      <th>3</th>\n",
       "      <td>98b49cb92dc2516a6b061f16c27b3a12e9404885</td>\n",
       "      <td>2020-03-01</td>\n",
       "      <td>B.1</td>\n",
       "      <td>Other variants</td>\n",
       "      <td>Brazil</td>\n",
       "      <td>Rio Grande do Sul</td>\n",
       "      <td>RS</td>\n",
       "      <td>BR43</td>\n",
       "      <td>82</td>\n",
       "      <td>Male</td>\n",
       "      <td>-29.842528</td>\n",
       "      <td>-53.768058</td>\n",
       "      <td>2020</td>\n",
       "    </tr>\n",
       "    <tr>\n",
       "      <th>4</th>\n",
       "      <td>a5ced01b07bfa9705841a45c5b236be5590e7fd1</td>\n",
       "      <td>2020-03-04</td>\n",
       "      <td>B</td>\n",
       "      <td>Other variants</td>\n",
       "      <td>Brazil</td>\n",
       "      <td>Distrito Federal</td>\n",
       "      <td>DF</td>\n",
       "      <td>BR53</td>\n",
       "      <td>52</td>\n",
       "      <td>Female</td>\n",
       "      <td>-15.775446</td>\n",
       "      <td>-47.797089</td>\n",
       "      <td>2020</td>\n",
       "    </tr>\n",
       "  </tbody>\n",
       "</table>\n",
       "</div>"
      ],
      "text/plain": [
       "                                 identifier       date pango_lineage  \\\n",
       "0  f13d424ea9d922139c0fdf8248983cb7bf70ab12 2020-03-01      B.1.1.33   \n",
       "1  1b036bc8f04309aeae963ff7350b0f5253595e76 2020-03-01         B.1.1   \n",
       "2  d7159e22a06c290aedfd0c51f036e81f60dd2210 2020-03-01         B.1.1   \n",
       "3  98b49cb92dc2516a6b061f16c27b3a12e9404885 2020-03-01           B.1   \n",
       "4  a5ced01b07bfa9705841a45c5b236be5590e7fd1 2020-03-04             B   \n",
       "\n",
       "          variant country              state state_code ibge_code age     sex  \\\n",
       "0  Other variants  Brazil     Rio de Janeiro         RJ      BR33   ?       ?   \n",
       "1  Other variants  Brazil  Rio Grande do Sul         RS      BR43  53    Male   \n",
       "2  Other variants  Brazil  Rio Grande do Sul         RS      BR43  47  Female   \n",
       "3  Other variants  Brazil  Rio Grande do Sul         RS      BR43  82    Male   \n",
       "4  Other variants  Brazil   Distrito Federal         DF      BR53  52  Female   \n",
       "\n",
       "         lat       long  Year  \n",
       "0 -22.911014 -43.209373  2020  \n",
       "1 -29.842528 -53.768058  2020  \n",
       "2 -29.842528 -53.768058  2020  \n",
       "3 -29.842528 -53.768058  2020  \n",
       "4 -15.775446 -47.797089  2020  "
      ]
     },
     "execution_count": 16,
     "metadata": {},
     "output_type": "execute_result"
    }
   ],
   "source": [
    "# creating a column for the years\n",
    "df['Year'] = df.date.dt.year\n",
    "df.head()"
   ]
  },
  {
   "cell_type": "code",
   "execution_count": 40,
   "metadata": {},
   "outputs": [
    {
     "data": {
      "text/plain": [
       "2020     6436\n",
       "2021    86162\n",
       "Name: Year, dtype: int64"
      ]
     },
     "execution_count": 40,
     "metadata": {},
     "output_type": "execute_result"
    }
   ],
   "source": [
    "#number of events by year. As we already know the dataset has only unique samples\n",
    "df_year = df.Year.value_counts().sort_index().head()\n",
    "df_year.head()"
   ]
  },
  {
   "cell_type": "code",
   "execution_count": 67,
   "metadata": {},
   "outputs": [],
   "source": [
    "# creating a column for months and days\n",
    "df['month-day'] = df.date.dt.strftime('%m-%d')"
   ]
  },
  {
   "cell_type": "markdown",
   "metadata": {},
   "source": [
    "#### How well genome sequencing developed in 2020 and in 2021?\n",
    "* 2021 has 13 times more genome sequences than 2020."
   ]
  },
  {
   "cell_type": "markdown",
   "metadata": {},
   "source": [
    "---"
   ]
  },
  {
   "cell_type": "markdown",
   "metadata": {},
   "source": [
    "### 2. SARS-CoV-2 lineages circulated in Brazil\n",
    "* How was the distribution of the different variants (Alpha, Beta, Gamma, Delta, and Omicron) in the Brazilian states?"
   ]
  },
  {
   "cell_type": "code",
   "execution_count": null,
   "metadata": {},
   "outputs": [],
   "source": [
    "df.loc[df.pango-lineage]"
   ]
  },
  {
   "cell_type": "code",
   "execution_count": null,
   "metadata": {},
   "outputs": [],
   "source": [
    "#movies.loc[movies.duration >= 200, 'genre']\n",
    "#movies[movies.genre.isin(['Crime', 'Drama', 'Action'])]"
   ]
  },
  {
   "cell_type": "markdown",
   "metadata": {},
   "source": [
    "---"
   ]
  },
  {
   "cell_type": "markdown",
   "metadata": {},
   "source": [
    "### 3.Explore visualizations     \n",
    "* Using the [visual-vocabulary from Financial-Times](https://github.com/Financial-Times/chart-doctor/tree/main/visual-vocabulary) explore your creativity, and provide answers to new questions not yet considered in the previous tasks."
   ]
  },
  {
   "cell_type": "code",
   "execution_count": 44,
   "metadata": {},
   "outputs": [
    {
     "ename": "ModuleNotFoundError",
     "evalue": "No module named 'dash'",
     "output_type": "error",
     "traceback": [
      "\u001b[0;31m---------------------------------------------------------------------------\u001b[0m",
      "\u001b[0;31mModuleNotFoundError\u001b[0m                       Traceback (most recent call last)",
      "\u001b[0;32m/tmp/ipykernel_193350/1400894327.py\u001b[0m in \u001b[0;36m<module>\u001b[0;34m\u001b[0m\n\u001b[0;32m----> 1\u001b[0;31m \u001b[0;32mfrom\u001b[0m \u001b[0mdash\u001b[0m \u001b[0;32mimport\u001b[0m \u001b[0mDash\u001b[0m\u001b[0;34m,\u001b[0m \u001b[0mdcc\u001b[0m\u001b[0;34m,\u001b[0m \u001b[0mhtml\u001b[0m\u001b[0;34m,\u001b[0m \u001b[0mInput\u001b[0m\u001b[0;34m,\u001b[0m \u001b[0mOutput\u001b[0m\u001b[0;34m\u001b[0m\u001b[0;34m\u001b[0m\u001b[0m\n\u001b[0m\u001b[1;32m      2\u001b[0m \u001b[0;32mimport\u001b[0m \u001b[0mplotly\u001b[0m\u001b[0;34m.\u001b[0m\u001b[0mexpress\u001b[0m \u001b[0;32mas\u001b[0m \u001b[0mpx\u001b[0m\u001b[0;34m\u001b[0m\u001b[0;34m\u001b[0m\u001b[0m\n\u001b[1;32m      3\u001b[0m \u001b[0;34m\u001b[0m\u001b[0m\n\u001b[1;32m      4\u001b[0m \u001b[0mapp\u001b[0m \u001b[0;34m=\u001b[0m \u001b[0mDash\u001b[0m\u001b[0;34m(\u001b[0m\u001b[0m__name__\u001b[0m\u001b[0;34m)\u001b[0m\u001b[0;34m\u001b[0m\u001b[0;34m\u001b[0m\u001b[0m\n\u001b[1;32m      5\u001b[0m \u001b[0;34m\u001b[0m\u001b[0m\n",
      "\u001b[0;31mModuleNotFoundError\u001b[0m: No module named 'dash'"
     ]
    }
   ],
   "source": [
    "app = Dash(__name__)\n",
    "\n",
    "\n",
    "app.layout = html.Div([\n",
    "    html.H4('Restaurant tips by day of week'),\n",
    "    dcc.Dropdown(\n",
    "        id=\"dropdown\",\n",
    "        options=[\"Fri\", \"Sat\", \"Sun\"],\n",
    "        value=\"Fri\",\n",
    "        clearable=False,\n",
    "    ),\n",
    "    dcc.Graph(id=\"graph\"),\n",
    "])\n",
    "\n",
    "\n",
    "@app.callback(\n",
    "    Output(\"graph\", \"figure\"), \n",
    "    Input(\"dropdown\", \"value\"))\n",
    "def update_bar_chart(day):\n",
    "    df = px.data.tips() # replace with your own data source\n",
    "    mask = df[\"day\"] == day\n",
    "    fig = px.bar(df[mask], x=\"sex\", y=\"total_bill\", \n",
    "                 color=\"smoker\", barmode=\"group\")\n",
    "    return fig\n",
    "\n",
    "\n",
    "app.run_server(debug=True)"
   ]
  },
  {
   "cell_type": "markdown",
   "metadata": {},
   "source": [
    "---"
   ]
  },
  {
   "cell_type": "code",
   "execution_count": null,
   "metadata": {},
   "outputs": [],
   "source": []
  },
  {
   "cell_type": "code",
   "execution_count": null,
   "metadata": {},
   "outputs": [],
   "source": [
    "plt.figure(figsize=(20, 25))\n",
    "#plt.subplots_adjust(hspace = 0.40)\n",
    "\n",
    "ax2 = plt.subplot(4, 2, 2)\n",
    "ax2 = sns.countplot(x = 'year',data = df,\n",
    "                    palette = 'crest', hue = 'TP_PRESENCA_CH',\n",
    "                   dodge = False)\n",
    "\n",
    "ax2 = plt.title('QTDADE. CANDIDATOS PRESENTES - CIÊNCIAS HUMANAS E LING. E CÓDIGOS',\n",
    "               pad = 20,\n",
    "         fontsize = 13, color ='dimgrey', fontweight = 'bold')\n",
    "\n",
    "ax2 = sns.despine(bottom = True, left=True)\n",
    "ax2 = plt.xlabel('PRESENÇA NA PROVA', color = 'grey', labelpad = 20, fontsize = 8)\n",
    "ax2 = plt.ylabel('QUANTIDADE DE CANDIDATOS', color = 'grey', labelpad = 20, fontsize = 8)\n",
    "ax2 = plt.legend(labels=['Faltou', 'Presente', 'Eliminado'])\n",
    "ax2 = plt.legend(loc=2, labels=['Faltou', 'Presente', 'Eliminado'])"
   ]
  }
 ],
 "metadata": {
  "interpreter": {
   "hash": "357a8f3dcad644235a7d8c9fa3a72471c3bab363750d91839c868e205b47bf00"
  },
  "kernelspec": {
   "display_name": "Python 3.8.10 ('pop')",
   "language": "python",
   "name": "python3"
  },
  "language_info": {
   "codemirror_mode": {
    "name": "ipython",
    "version": 3
   },
   "file_extension": ".py",
   "mimetype": "text/x-python",
   "name": "python",
   "nbconvert_exporter": "python",
   "pygments_lexer": "ipython3",
   "version": "3.8.10"
  },
  "orig_nbformat": 4
 },
 "nbformat": 4,
 "nbformat_minor": 2
}
